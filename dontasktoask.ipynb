{
 "cells": [
  {
   "cell_type": "code",
   "execution_count": 2,
   "metadata": {
    "id": "I5ptPnw2EQOW"
   },
   "outputs": [],
   "source": [
    "import tensorflow as tf\n",
    "from tensorflow import keras\n",
    "from tensorflow.keras import layers\n",
    "from tensorflow.keras import losses\n",
    "from tensorflow.keras import optimizers\n",
    "import matplotlib.pyplot\n",
    "import numpy as np"
   ]
  },
  {
   "cell_type": "code",
   "execution_count": 3,
   "metadata": {},
   "outputs": [],
   "source": [
    "tf.config.set_visible_devices([], 'GPU')"
   ]
  },
  {
   "cell_type": "code",
   "execution_count": 4,
   "metadata": {
    "id": "oLVLTRWs3ISs"
   },
   "outputs": [],
   "source": [
    "import random\n",
    "\n",
    "class DataGenerator(keras.utils.Sequence):\n",
    "    def __init__(self, templates, messages, n_channels=5, sequence_length=50, batch_size=32, shuffle=True):\n",
    "        self.n_channels = n_channels\n",
    "        self.sequence_length = sequence_length\n",
    "        self.batch_size = batch_size\n",
    "        self.batch_half_size = batch_size // 2\n",
    "        self.shuffle=shuffle\n",
    "        self.character_mappings = {\n",
    "          'a': [0, 0, 0, 0, 1],\n",
    "          'b': [0, 0, 0, 1, 0],\n",
    "          'c': [0, 0, 0, 1, 1],\n",
    "          'd': [0, 0, 1, 0, 0],\n",
    "          'e': [0, 0, 1, 0, 1],\n",
    "          'f': [0, 0, 1, 1, 0],\n",
    "          'g': [0, 0, 1, 1, 1],\n",
    "          'h': [0, 1, 0, 0, 0],\n",
    "          'i': [0, 1, 0, 0, 1],\n",
    "          'j': [0, 1, 0, 1, 0],\n",
    "          'k': [0, 1, 0, 1, 1],\n",
    "          'l': [0, 1, 1, 0, 0],\n",
    "          'm': [0, 1, 1, 0, 1],\n",
    "          'n': [0, 1, 1, 1, 0],\n",
    "          'o': [0, 1, 1, 1, 1],\n",
    "          'p': [1, 0, 0, 0, 0],\n",
    "          'q': [1, 0, 0, 0, 1],\n",
    "          'r': [1, 0, 0, 1, 0],\n",
    "          's': [1, 0, 0, 1, 1],\n",
    "          't': [1, 0, 1, 0, 0],\n",
    "          'u': [1, 0, 1, 0, 1],\n",
    "          'v': [1, 0, 1, 1, 0],\n",
    "          'w': [1, 0, 1, 1, 1],\n",
    "          'x': [1, 1, 0, 0, 0],\n",
    "          'y': [1, 1, 0, 0, 1],\n",
    "          'z': [1, 1, 0, 1, 0],\n",
    "          ' ': [1, 1, 0, 1, 1],\n",
    "        }\n",
    "        with open('greetings.txt', 'r') as file:\n",
    "            self.greetings = file.read().split('\\n')\n",
    "        with open('verbs.txt', 'r') as file:\n",
    "            self.verbs = file.read().split('\\n')\n",
    "        with open('technologies.txt', 'r') as file:\n",
    "            self.technologies = file.read().split('\\n')\n",
    "        with open('subjects.txt', 'r') as file:\n",
    "            self.subjects = file.read().split('\\n')\n",
    "        with open(templates, 'r', encoding='utf-8') as file:\n",
    "            self.templates = file.read().split('\\n')\n",
    "        with open(messages, 'r', encoding='utf-8') as file:\n",
    "            self.messages = file.read().split('\\n')\n",
    "        self.on_epoch_end()\n",
    "\n",
    "    def generate_message(self):\n",
    "        msg_template = random.choice(self.templates)\n",
    "        tokens = msg_template.split(' ')\n",
    "        final = ''\n",
    "        tech = random.choice(self.technologies)\n",
    "        if random.randint(0, 2) == 0:\n",
    "            final += random.choice(self.greetings) + ' '\n",
    "        for t in tokens:\n",
    "            if t == '<verb>':\n",
    "                final += random.choice(self.verbs) + ' '\n",
    "            elif t == '<subject>':\n",
    "                final += random.choice(self.subjects) + ' '\n",
    "            elif t == '<technology>':\n",
    "                final += tech + ' '\n",
    "            else:\n",
    "                final += t + ' '\n",
    "        return final[:-1]\n",
    "\n",
    "    def on_epoch_end(self):\n",
    "        self.indexes = np.arange(len(self.messages))\n",
    "        if self.shuffle == True:\n",
    "            np.random.shuffle(self.indexes)\n",
    "\n",
    "    def mutate(self, msg):\n",
    "        final = ''\n",
    "        for e in msg:\n",
    "            r = random.randint(0, 74) # 1/75 chance of mutation\n",
    "            if r == 0:\n",
    "                continue\n",
    "            elif r == 1:\n",
    "                final += e + e\n",
    "            else:\n",
    "                final += e\n",
    "        return final\n",
    "\n",
    "    def vectorize_message(self, msg):\n",
    "        vec = []\n",
    "        for c in msg:\n",
    "            if len(vec) == self.sequence_length * self.n_channels:\n",
    "                return vec\n",
    "            if self.character_mappings.get(c) is not None:\n",
    "                vec += self.character_mappings[c]\n",
    "        while len(vec) < self.sequence_length * self.n_channels:\n",
    "            vec += [0, 0, 0, 0, 0]\n",
    "        return vec\n",
    "\n",
    "    def __data_generation(self, indexes):\n",
    "        X = np.empty((self.batch_size, self.sequence_length * self.n_channels))\n",
    "\n",
    "        zeros = np.zeros((self.batch_size // 2))\n",
    "        ones = np.ones((self.batch_size // 2))\n",
    "\n",
    "        y = np.concatenate((zeros, ones))\n",
    "        np.random.shuffle(y)\n",
    "\n",
    "        itr_fmsg = iter(indexes)\n",
    "        for index, e in enumerate(y):\n",
    "            msg = self.mutate(self.generate_message()) if e else self.messages[next(itr_fmsg)]\n",
    "            X[index] = self.vectorize_message(msg)\n",
    "\n",
    "        return X, y\n",
    "\n",
    "    def __len__(self):\n",
    "        return int((len(self.messages) * 2 / self.batch_size))\n",
    "\n",
    "    def __getitem__(self, index):\n",
    "        indexes = self.indexes[index*self.batch_half_size:(index+1)*self.batch_half_size]\n",
    "\n",
    "        X, y = self.__data_generation(indexes)\n",
    "\n",
    "        return X, y"
   ]
  },
  {
   "cell_type": "code",
   "execution_count": 43,
   "metadata": {
    "id": "BahDis0R-wQa"
   },
   "outputs": [],
   "source": [
    "sequence_length = 50\n",
    "n_channels = 5\n",
    "batch_size = 32\n",
    "\n",
    "params = {\n",
    "    'n_channels': n_channels,\n",
    "    'sequence_length': sequence_length,\n",
    "    'batch_size': batch_size,\n",
    "    'shuffle': True\n",
    "}\n",
    "\n",
    "train_generator = DataGenerator(templates='train_templates.txt', messages='train_messages.txt', **params)\n",
    "val_generator = DataGenerator(templates='val_templates.txt', messages='val_messages.txt', **params)"
   ]
  },
  {
   "cell_type": "code",
   "execution_count": 49,
   "metadata": {
    "id": "bYWUNuaE3a9M"
   },
   "outputs": [
    {
     "name": "stdout",
     "output_type": "stream",
     "text": [
      "Model: \"sequential_14\"\n",
      "_________________________________________________________________\n",
      " Layer (type)                Output Shape              Param #   \n",
      "=================================================================\n",
      " dense_45 (Dense)            (None, 512)               128512    \n",
      "                                                                 \n",
      " dense_46 (Dense)            (None, 256)               131328    \n",
      "                                                                 \n",
      " dense_47 (Dense)            (None, 128)               32896     \n",
      "                                                                 \n",
      " dense_48 (Dense)            (None, 64)                8256      \n",
      "                                                                 \n",
      " dense_49 (Dense)            (None, 16)                1040      \n",
      "                                                                 \n",
      " dense_50 (Dense)            (None, 1)                 17        \n",
      "                                                                 \n",
      "=================================================================\n",
      "Total params: 302,049\n",
      "Trainable params: 302,049\n",
      "Non-trainable params: 0\n",
      "_________________________________________________________________\n"
     ]
    }
   ],
   "source": [
    "model = keras.Sequential()\n",
    "\n",
    "model.add(layers.Dense(512, activation='relu', kernel_initializer='he_normal', bias_initializer='zeros', input_dim=sequence_length*n_channels))\n",
    "model.add(layers.Dense(256, activation='relu', kernel_initializer='he_normal', bias_initializer='zeros'))\n",
    "model.add(layers.Dense(128, activation='relu', kernel_initializer='he_normal', bias_initializer='zeros'))\n",
    "model.add(layers.Dense(64, activation='relu', kernel_initializer='he_normal', bias_initializer='zeros'))\n",
    "model.add(layers.Dense(16, activation='relu', kernel_initializer='he_normal', bias_initializer='zeros'))\n",
    "model.add(layers.Dense(1))\n",
    "\n",
    "model.compile(\n",
    "    loss=losses.BinaryCrossentropy(from_logits=True),\n",
    "    optimizer=optimizers.Adam(learning_rate=1e-4),\n",
    "    metrics=[keras.metrics.BinaryAccuracy()]\n",
    ")\n",
    "\n",
    "model.summary()"
   ]
  },
  {
   "cell_type": "code",
   "execution_count": 51,
   "metadata": {
    "colab": {
     "base_uri": "https://localhost:8080/"
    },
    "id": "4oIyjgwr3a3_",
    "outputId": "db9f04b7-376f-4d95-e5df-717c55459f3b",
    "scrolled": true
   },
   "outputs": [
    {
     "name": "stdout",
     "output_type": "stream",
     "text": [
      "Epoch 1/20\n",
      "2550/2550 [==============================] - 4s 2ms/step - loss: 0.2392 - binary_accuracy: 0.8987 - val_loss: 0.2742 - val_binary_accuracy: 0.8624\n",
      "Epoch 2/20\n",
      "2550/2550 [==============================] - 4s 1ms/step - loss: 0.1123 - binary_accuracy: 0.9577 - val_loss: 0.2442 - val_binary_accuracy: 0.8943\n",
      "Epoch 3/20\n",
      "2550/2550 [==============================] - 4s 2ms/step - loss: 0.0726 - binary_accuracy: 0.9730 - val_loss: 0.2813 - val_binary_accuracy: 0.8890\n",
      "Epoch 4/20\n",
      "2550/2550 [==============================] - 4s 1ms/step - loss: 0.0526 - binary_accuracy: 0.9810 - val_loss: 0.3198 - val_binary_accuracy: 0.8757\n",
      "Epoch 5/20\n",
      "2550/2550 [==============================] - 4s 1ms/step - loss: 0.0397 - binary_accuracy: 0.9852 - val_loss: 0.3763 - val_binary_accuracy: 0.8670\n",
      "Epoch 6/20\n",
      "2550/2550 [==============================] - 4s 2ms/step - loss: 0.0323 - binary_accuracy: 0.9889 - val_loss: 0.2410 - val_binary_accuracy: 0.9156\n",
      "Epoch 7/20\n",
      "2550/2550 [==============================] - 4s 2ms/step - loss: 0.0269 - binary_accuracy: 0.9906 - val_loss: 0.2706 - val_binary_accuracy: 0.9062\n",
      "Epoch 8/20\n",
      "2550/2550 [==============================] - 4s 2ms/step - loss: 0.0228 - binary_accuracy: 0.9920 - val_loss: 0.3790 - val_binary_accuracy: 0.8816\n",
      "Epoch 9/20\n",
      "2550/2550 [==============================] - 4s 2ms/step - loss: 0.0198 - binary_accuracy: 0.9930 - val_loss: 0.3467 - val_binary_accuracy: 0.8936\n",
      "Epoch 10/20\n",
      "2550/2550 [==============================] - 4s 2ms/step - loss: 0.0183 - binary_accuracy: 0.9939 - val_loss: 0.3704 - val_binary_accuracy: 0.9056\n",
      "Epoch 11/20\n",
      "2550/2550 [==============================] - 4s 2ms/step - loss: 0.0163 - binary_accuracy: 0.9943 - val_loss: 0.3632 - val_binary_accuracy: 0.9056\n",
      "Epoch 12/20\n",
      "2550/2550 [==============================] - 4s 2ms/step - loss: 0.0154 - binary_accuracy: 0.9949 - val_loss: 0.4124 - val_binary_accuracy: 0.8923\n",
      "Epoch 13/20\n",
      "2550/2550 [==============================] - 4s 2ms/step - loss: 0.0144 - binary_accuracy: 0.9951 - val_loss: 0.4543 - val_binary_accuracy: 0.8803\n",
      "Epoch 14/20\n",
      "2550/2550 [==============================] - 4s 2ms/step - loss: 0.0132 - binary_accuracy: 0.9957 - val_loss: 0.3897 - val_binary_accuracy: 0.9109\n",
      "Epoch 15/20\n",
      "2550/2550 [==============================] - 4s 2ms/step - loss: 0.0126 - binary_accuracy: 0.9958 - val_loss: 0.4047 - val_binary_accuracy: 0.8976\n",
      "Epoch 16/20\n",
      "2550/2550 [==============================] - 4s 2ms/step - loss: 0.0113 - binary_accuracy: 0.9963 - val_loss: 0.4748 - val_binary_accuracy: 0.8963\n",
      "Epoch 17/20\n",
      "2550/2550 [==============================] - 4s 2ms/step - loss: 0.0120 - binary_accuracy: 0.9962 - val_loss: 0.3151 - val_binary_accuracy: 0.9122\n",
      "Epoch 18/20\n",
      "2550/2550 [==============================] - 4s 2ms/step - loss: 0.0109 - binary_accuracy: 0.9965 - val_loss: 0.3506 - val_binary_accuracy: 0.8983\n",
      "Epoch 19/20\n",
      "2550/2550 [==============================] - 4s 2ms/step - loss: 0.0096 - binary_accuracy: 0.9968 - val_loss: 0.3105 - val_binary_accuracy: 0.9229\n",
      "Epoch 20/20\n",
      "2550/2550 [==============================] - 4s 2ms/step - loss: 0.0103 - binary_accuracy: 0.9967 - val_loss: 0.4131 - val_binary_accuracy: 0.9009\n"
     ]
    }
   ],
   "source": [
    "history = model.fit(train_generator, validation_data=val_generator, epochs=20)"
   ]
  },
  {
   "cell_type": "code",
   "execution_count": 52,
   "metadata": {
    "id": "HGmRELu-DXNd"
   },
   "outputs": [
    {
     "data": {
      "image/png": "[encoded data removed]",
      "text/plain": [
       "<Figure size 1200x300 with 2 Axes>"
      ]
     },
     "metadata": {},
     "output_type": "display_data"
    }
   ],
   "source": [
    "import matplotlib.pyplot as plt\n",
    "\n",
    "h_dic = history.history\n",
    "\n",
    "plt.figure(figsize=(12, 3))\n",
    "\n",
    "plt.subplot(1, 2, 1)\n",
    "plt.plot(h_dic['loss'], label='Training Loss')\n",
    "plt.plot(h_dic['val_loss'], label='Validation Loss')\n",
    "plt.legend()\n",
    "\n",
    "plt.subplot(1, 2, 2)\n",
    "plt.plot(h_dic['binary_accuracy'], label='Training Accuracy')\n",
    "plt.plot(h_dic['val_binary_accuracy'], label='Validation Accuracy')\n",
    "plt.legend()\n",
    "\n",
    "plt.show()"
   ]
  },
  {
   "cell_type": "code",
   "execution_count": 53,
   "metadata": {},
   "outputs": [],
   "source": [
    "export_model = keras.Sequential([\n",
    "    model,\n",
    "    layers.Activation('sigmoid')\n",
    "])\n",
    "\n",
    "export_model.compile(\n",
    "    loss=losses.BinaryCrossentropy(),\n",
    "    optimizer=optimizers.Adam(learning_rate=1e-4)\n",
    ")"
   ]
  },
  {
   "cell_type": "code",
   "execution_count": 30,
   "metadata": {
    "id": "1KSfhIDJEa4y"
   },
   "outputs": [
    {
     "name": "stderr",
     "output_type": "stream",
     "text": [
      "WARNING:root:TensorFlow Decision Forests 1.3.0 is compatible with the following TensorFlow Versions: ['2.12.0']. However, TensorFlow 2.9.0 was detected. This can cause issues with the TF API and symbols in the custom C++ ops. See the TF and TF-DF compatibility table at https://github.com/tensorflow/decision-forests/blob/main/documentation/known_issues.md#compatibility-table.\n"
     ]
    },
    {
     "ename": "ImportError",
     "evalue": "cannot import name 'load_op' from 'tensorflow.python.data.ops' (/Users/fahd/miniconda/lib/python3.10/site-packages/tensorflow/python/data/ops/__init__.py)",
     "output_type": "error",
     "traceback": [
      "\u001b[0;31m---------------------------------------------------------------------------\u001b[0m",
      "\u001b[0;31mImportError\u001b[0m                               Traceback (most recent call last)",
      "Cell \u001b[0;32mIn[30], line 1\u001b[0m\n\u001b[0;32m----> 1\u001b[0m \u001b[38;5;28;01mimport\u001b[39;00m \u001b[38;5;21;01mtensorflowjs\u001b[39;00m \u001b[38;5;28;01mas\u001b[39;00m \u001b[38;5;21;01mtfjs\u001b[39;00m\n\u001b[1;32m      2\u001b[0m tfjs\u001b[38;5;241m.\u001b[39mconverters\u001b[38;5;241m.\u001b[39msave_keras_model(export_model, \u001b[38;5;124m'\u001b[39m\u001b[38;5;124mmodel/\u001b[39m\u001b[38;5;124m'\u001b[39m)\n",
      "File \u001b[0;32m~/miniconda/lib/python3.10/site-packages/tensorflowjs/__init__.py:21\u001b[0m\n\u001b[1;32m     18\u001b[0m \u001b[38;5;28;01mfrom\u001b[39;00m \u001b[38;5;21;01m__future__\u001b[39;00m \u001b[38;5;28;01mimport\u001b[39;00m print_function\n\u001b[1;32m     20\u001b[0m \u001b[38;5;66;03m# pylint: disable=unused-imports\u001b[39;00m\n\u001b[0;32m---> 21\u001b[0m \u001b[38;5;28;01mfrom\u001b[39;00m \u001b[38;5;21;01mtensorflowjs\u001b[39;00m \u001b[38;5;28;01mimport\u001b[39;00m converters\n\u001b[1;32m     22\u001b[0m \u001b[38;5;28;01mfrom\u001b[39;00m \u001b[38;5;21;01mtensorflowjs\u001b[39;00m \u001b[38;5;28;01mimport\u001b[39;00m quantization\n\u001b[1;32m     23\u001b[0m \u001b[38;5;28;01mfrom\u001b[39;00m \u001b[38;5;21;01mtensorflowjs\u001b[39;00m \u001b[38;5;28;01mimport\u001b[39;00m version\n",
      "File \u001b[0;32m~/miniconda/lib/python3.10/site-packages/tensorflowjs/converters/__init__.py:21\u001b[0m\n\u001b[1;32m     18\u001b[0m \u001b[38;5;28;01mfrom\u001b[39;00m \u001b[38;5;21;01m__future__\u001b[39;00m \u001b[38;5;28;01mimport\u001b[39;00m print_function\n\u001b[1;32m     20\u001b[0m \u001b[38;5;66;03m# pylint: disable=unused-imports,line-too-long\u001b[39;00m\n\u001b[0;32m---> 21\u001b[0m \u001b[38;5;28;01mfrom\u001b[39;00m \u001b[38;5;21;01mtensorflowjs\u001b[39;00m\u001b[38;5;21;01m.\u001b[39;00m\u001b[38;5;21;01mconverters\u001b[39;00m\u001b[38;5;21;01m.\u001b[39;00m\u001b[38;5;21;01mconverter\u001b[39;00m \u001b[38;5;28;01mimport\u001b[39;00m convert\n\u001b[1;32m     22\u001b[0m \u001b[38;5;28;01mfrom\u001b[39;00m \u001b[38;5;21;01mtensorflowjs\u001b[39;00m\u001b[38;5;21;01m.\u001b[39;00m\u001b[38;5;21;01mconverters\u001b[39;00m\u001b[38;5;21;01m.\u001b[39;00m\u001b[38;5;21;01mkeras_h5_conversion\u001b[39;00m \u001b[38;5;28;01mimport\u001b[39;00m save_keras_model\n\u001b[1;32m     23\u001b[0m \u001b[38;5;28;01mfrom\u001b[39;00m \u001b[38;5;21;01mtensorflowjs\u001b[39;00m\u001b[38;5;21;01m.\u001b[39;00m\u001b[38;5;21;01mconverters\u001b[39;00m\u001b[38;5;21;01m.\u001b[39;00m\u001b[38;5;21;01mkeras_tfjs_loader\u001b[39;00m \u001b[38;5;28;01mimport\u001b[39;00m deserialize_keras_model\n",
      "File \u001b[0;32m~/miniconda/lib/python3.10/site-packages/tensorflowjs/converters/converter.py:37\u001b[0m\n\u001b[1;32m     35\u001b[0m \u001b[38;5;28;01mfrom\u001b[39;00m \u001b[38;5;21;01mtensorflowjs\u001b[39;00m\u001b[38;5;21;01m.\u001b[39;00m\u001b[38;5;21;01mconverters\u001b[39;00m \u001b[38;5;28;01mimport\u001b[39;00m keras_h5_conversion \u001b[38;5;28;01mas\u001b[39;00m conversion\n\u001b[1;32m     36\u001b[0m \u001b[38;5;28;01mfrom\u001b[39;00m \u001b[38;5;21;01mtensorflowjs\u001b[39;00m\u001b[38;5;21;01m.\u001b[39;00m\u001b[38;5;21;01mconverters\u001b[39;00m \u001b[38;5;28;01mimport\u001b[39;00m keras_tfjs_loader\n\u001b[0;32m---> 37\u001b[0m \u001b[38;5;28;01mfrom\u001b[39;00m \u001b[38;5;21;01mtensorflowjs\u001b[39;00m\u001b[38;5;21;01m.\u001b[39;00m\u001b[38;5;21;01mconverters\u001b[39;00m \u001b[38;5;28;01mimport\u001b[39;00m tf_saved_model_conversion_v2\n\u001b[1;32m     40\u001b[0m \u001b[38;5;28;01mdef\u001b[39;00m \u001b[38;5;21mdispatch_keras_h5_to_tfjs_layers_model_conversion\u001b[39m(\n\u001b[1;32m     41\u001b[0m     h5_path, output_dir\u001b[38;5;241m=\u001b[39m\u001b[38;5;28;01mNone\u001b[39;00m, quantization_dtype_map\u001b[38;5;241m=\u001b[39m\u001b[38;5;28;01mNone\u001b[39;00m,\n\u001b[1;32m     42\u001b[0m     split_weights_by_layer\u001b[38;5;241m=\u001b[39m\u001b[38;5;28;01mFalse\u001b[39;00m,\n\u001b[1;32m     43\u001b[0m     weight_shard_size_bytes\u001b[38;5;241m=\u001b[39m\u001b[38;5;241m1024\u001b[39m \u001b[38;5;241m*\u001b[39m \u001b[38;5;241m1024\u001b[39m \u001b[38;5;241m*\u001b[39m \u001b[38;5;241m4\u001b[39m,\n\u001b[1;32m     44\u001b[0m     metadata\u001b[38;5;241m=\u001b[39m\u001b[38;5;28;01mNone\u001b[39;00m):\n\u001b[1;32m     45\u001b[0m   \u001b[38;5;124;03m\"\"\"Converts a Keras HDF5 saved-model file to TensorFlow.js format.\u001b[39;00m\n\u001b[1;32m     46\u001b[0m \n\u001b[1;32m     47\u001b[0m \u001b[38;5;124;03m  Auto-detects saved_model versus weights-only and generates the correct\u001b[39;00m\n\u001b[0;32m   (...)\u001b[0m\n\u001b[1;32m     73\u001b[0m \u001b[38;5;124;03m      groups: an array of weight_groups as defined in tfjs weights_writer.\u001b[39;00m\n\u001b[1;32m     74\u001b[0m \u001b[38;5;124;03m  \"\"\"\u001b[39;00m\n",
      "File \u001b[0;32m~/miniconda/lib/python3.10/site-packages/tensorflowjs/converters/tf_saved_model_conversion_v2.py:28\u001b[0m\n\u001b[1;32m     25\u001b[0m \u001b[38;5;28;01mfrom\u001b[39;00m \u001b[38;5;21;01mzipfile\u001b[39;00m \u001b[38;5;28;01mimport\u001b[39;00m ZipFile\n\u001b[1;32m     27\u001b[0m \u001b[38;5;66;03m# Required to load saved models that use TFDF.\u001b[39;00m\n\u001b[0;32m---> 28\u001b[0m \u001b[38;5;28;01mimport\u001b[39;00m \u001b[38;5;21;01mtensorflow_decision_forests\u001b[39;00m\n\u001b[1;32m     29\u001b[0m \u001b[38;5;28;01mimport\u001b[39;00m \u001b[38;5;21;01mtensorflow\u001b[39;00m \u001b[38;5;28;01mas\u001b[39;00m \u001b[38;5;21;01mtf\u001b[39;00m\n\u001b[1;32m     30\u001b[0m \u001b[38;5;28;01mfrom\u001b[39;00m \u001b[38;5;21;01mtensorflow\u001b[39;00m\u001b[38;5;21;01m.\u001b[39;00m\u001b[38;5;21;01mcore\u001b[39;00m\u001b[38;5;21;01m.\u001b[39;00m\u001b[38;5;21;01mframework\u001b[39;00m \u001b[38;5;28;01mimport\u001b[39;00m graph_pb2\n",
      "File \u001b[0;32m~/miniconda/lib/python3.10/site-packages/tensorflow_decision_forests/__init__.py:64\u001b[0m\n\u001b[1;32m     60\u001b[0m \u001b[38;5;28;01mfrom\u001b[39;00m \u001b[38;5;21;01mtensorflow_decision_forests\u001b[39;00m\u001b[38;5;21;01m.\u001b[39;00m\u001b[38;5;21;01mtensorflow\u001b[39;00m \u001b[38;5;28;01mimport\u001b[39;00m check_version\n\u001b[1;32m     62\u001b[0m check_version\u001b[38;5;241m.\u001b[39mcheck_version(__version__, compatible_tf_versions)\n\u001b[0;32m---> 64\u001b[0m \u001b[38;5;28;01mfrom\u001b[39;00m \u001b[38;5;21;01mtensorflow_decision_forests\u001b[39;00m \u001b[38;5;28;01mimport\u001b[39;00m keras\n\u001b[1;32m     65\u001b[0m \u001b[38;5;28;01mfrom\u001b[39;00m \u001b[38;5;21;01mtensorflow_decision_forests\u001b[39;00m\u001b[38;5;21;01m.\u001b[39;00m\u001b[38;5;21;01mcomponent\u001b[39;00m \u001b[38;5;28;01mimport\u001b[39;00m py_tree\n\u001b[1;32m     66\u001b[0m \u001b[38;5;28;01mfrom\u001b[39;00m \u001b[38;5;21;01mtensorflow_decision_forests\u001b[39;00m\u001b[38;5;21;01m.\u001b[39;00m\u001b[38;5;21;01mcomponent\u001b[39;00m\u001b[38;5;21;01m.\u001b[39;00m\u001b[38;5;21;01mbuilder\u001b[39;00m \u001b[38;5;28;01mimport\u001b[39;00m builder\n",
      "File \u001b[0;32m~/miniconda/lib/python3.10/site-packages/tensorflow_decision_forests/keras/__init__.py:53\u001b[0m\n\u001b[1;32m     15\u001b[0m \u001b[38;5;124;03m\"\"\"Decision Forest in a Keras Model.\u001b[39;00m\n\u001b[1;32m     16\u001b[0m \n\u001b[1;32m     17\u001b[0m \u001b[38;5;124;03mUsage example:\u001b[39;00m\n\u001b[0;32m   (...)\u001b[0m\n\u001b[1;32m     48\u001b[0m \u001b[38;5;124;03m```\u001b[39;00m\n\u001b[1;32m     49\u001b[0m \u001b[38;5;124;03m\"\"\"\u001b[39;00m\n\u001b[1;32m     51\u001b[0m \u001b[38;5;28;01mfrom\u001b[39;00m \u001b[38;5;21;01mtyping\u001b[39;00m \u001b[38;5;28;01mimport\u001b[39;00m Callable, List\n\u001b[0;32m---> 53\u001b[0m \u001b[38;5;28;01mfrom\u001b[39;00m \u001b[38;5;21;01mtensorflow_decision_forests\u001b[39;00m\u001b[38;5;21;01m.\u001b[39;00m\u001b[38;5;21;01mkeras\u001b[39;00m \u001b[38;5;28;01mimport\u001b[39;00m core\n\u001b[1;32m     54\u001b[0m \u001b[38;5;28;01mfrom\u001b[39;00m \u001b[38;5;21;01mtensorflow_decision_forests\u001b[39;00m\u001b[38;5;21;01m.\u001b[39;00m\u001b[38;5;21;01mkeras\u001b[39;00m \u001b[38;5;28;01mimport\u001b[39;00m wrappers\n\u001b[1;32m     56\u001b[0m \u001b[38;5;66;03m# Utility classes\u001b[39;00m\n",
      "File \u001b[0;32m~/miniconda/lib/python3.10/site-packages/tensorflow_decision_forests/keras/core.py:58\u001b[0m\n\u001b[1;32m     55\u001b[0m \u001b[38;5;28;01mimport\u001b[39;00m \u001b[38;5;21;01mtensorflow\u001b[39;00m \u001b[38;5;28;01mas\u001b[39;00m \u001b[38;5;21;01mtf\u001b[39;00m\n\u001b[1;32m     57\u001b[0m \u001b[38;5;28;01mfrom\u001b[39;00m \u001b[38;5;21;01mtensorflow\u001b[39;00m\u001b[38;5;21;01m.\u001b[39;00m\u001b[38;5;21;01mpython\u001b[39;00m\u001b[38;5;21;01m.\u001b[39;00m\u001b[38;5;21;01mdata\u001b[39;00m\u001b[38;5;21;01m.\u001b[39;00m\u001b[38;5;21;01mops\u001b[39;00m \u001b[38;5;28;01mimport\u001b[39;00m dataset_ops\n\u001b[0;32m---> 58\u001b[0m \u001b[38;5;28;01mfrom\u001b[39;00m \u001b[38;5;21;01mtensorflow\u001b[39;00m\u001b[38;5;21;01m.\u001b[39;00m\u001b[38;5;21;01mpython\u001b[39;00m\u001b[38;5;21;01m.\u001b[39;00m\u001b[38;5;21;01mdata\u001b[39;00m\u001b[38;5;21;01m.\u001b[39;00m\u001b[38;5;21;01mops\u001b[39;00m \u001b[38;5;28;01mimport\u001b[39;00m load_op\n\u001b[1;32m     59\u001b[0m \u001b[38;5;28;01mfrom\u001b[39;00m \u001b[38;5;21;01mtensorflow_decision_forests\u001b[39;00m\u001b[38;5;21;01m.\u001b[39;00m\u001b[38;5;21;01mcomponent\u001b[39;00m\u001b[38;5;21;01m.\u001b[39;00m\u001b[38;5;21;01minspector\u001b[39;00m \u001b[38;5;28;01mimport\u001b[39;00m inspector \u001b[38;5;28;01mas\u001b[39;00m inspector_lib\n\u001b[1;32m     60\u001b[0m \u001b[38;5;28;01mfrom\u001b[39;00m \u001b[38;5;21;01mtensorflow_decision_forests\u001b[39;00m\u001b[38;5;21;01m.\u001b[39;00m\u001b[38;5;21;01mcomponent\u001b[39;00m\u001b[38;5;21;01m.\u001b[39;00m\u001b[38;5;21;01mtuner\u001b[39;00m \u001b[38;5;28;01mimport\u001b[39;00m tuner \u001b[38;5;28;01mas\u001b[39;00m tuner_lib\n",
      "\u001b[0;31mImportError\u001b[0m: cannot import name 'load_op' from 'tensorflow.python.data.ops' (/Users/fahd/miniconda/lib/python3.10/site-packages/tensorflow/python/data/ops/__init__.py)"
     ]
    }
   ],
   "source": [
    "import tensorflowjs as tfjs\n",
    "tfjs.converters.save_keras_model(export_model, 'model/')"
   ]
  },
  {
   "cell_type": "code",
   "execution_count": 54,
   "metadata": {},
   "outputs": [],
   "source": [
    "export_model.save('model.h5')"
   ]
  }
 ],
 "metadata": {
  "colab": {
   "provenance": []
  },
  "kernelspec": {
   "display_name": "Python 3 (ipykernel)",
   "language": "python",
   "name": "python3"
  },
  "language_info": {
   "codemirror_mode": {
    "name": "ipython",
    "version": 3
   },
   "file_extension": ".py",
   "mimetype": "text/x-python",
   "name": "python",
   "nbconvert_exporter": "python",
   "pygments_lexer": "ipython3",
   "version": "3.10.9"
  }
 },
 "nbformat": 4,
 "nbformat_minor": 1
}
